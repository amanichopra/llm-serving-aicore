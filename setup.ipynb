{
 "cells": [
  {
   "cell_type": "markdown",
   "id": "7fbdcf65",
   "metadata": {},
   "source": [
    "# Configure AI Core"
   ]
  },
  {
   "cell_type": "markdown",
   "id": "c5cc1ece",
   "metadata": {},
   "source": [
    "Let's first connect to the AI Core client using credentials stored in `.env`."
   ]
  },
  {
   "cell_type": "code",
   "execution_count": 13,
   "id": "a8def219",
   "metadata": {},
   "outputs": [
    {
     "data": {
      "text/plain": [
       "True"
      ]
     },
     "execution_count": 13,
     "metadata": {},
     "output_type": "execute_result"
    }
   ],
   "source": [
    "from dotenv import load_dotenv\n",
    "load_dotenv(override=True)"
   ]
  },
  {
   "cell_type": "code",
   "execution_count": 8,
   "id": "bd8fb2ae",
   "metadata": {},
   "outputs": [],
   "source": [
    "import os\n",
    "# Load Library\n",
    "from ai_core_sdk.ai_core_v2_client import AICoreV2Client\n",
    "\n",
    "# Create Connection\n",
    "ai_core_client = AICoreV2Client(\n",
    "    base_url = os.environ[\"AICORE_BASE_URL\"],\n",
    "    auth_url=  os.environ[\"AICORE_AUTH_URL\"], \n",
    "    client_id = os.environ[\"AICORE_CLIENT_ID\"],\n",
    "    client_secret = os.environ[\"AICORE_CLIENT_SECRET\"],\n",
    "    resource_group=os.environ['AICORE_RESOURCE_GROUP']\n",
    ")"
   ]
  },
  {
   "cell_type": "markdown",
   "id": "bfc0d770",
   "metadata": {},
   "source": [
    "Now, let's store Docker credentials as a secret in AI Core."
   ]
  },
  {
   "cell_type": "code",
   "execution_count": 12,
   "id": "041343ba",
   "metadata": {},
   "outputs": [
    {
     "name": "stdout",
     "output_type": "stream",
     "text": [
      "{'message': 'secret has been created'}\n"
     ]
    }
   ],
   "source": [
    "response = ai_core_client.docker_registry_secrets.create(\n",
    "    name = \"docker-secret-aman\",\n",
    "    data = {\n",
    "        \".dockerconfigjson\": f'{{\\\"auths\\\":{{\\\"docker.io/amanichopra\\\":{{\\\"username\\\":\\\"amanichopra\\\",\\\"password\\\":\\\"{os.environ[\"DOCKER_PAT\"]}\\\"}}}}}}'\n",
    "    }\n",
    ")\n",
    "print(response.__dict__)"
   ]
  },
  {
   "cell_type": "markdown",
   "id": "59566070",
   "metadata": {},
   "source": [
    "Now, let's onboard a GitHub repo onto AI Core."
   ]
  },
  {
   "cell_type": "code",
   "execution_count": null,
   "id": "b5d9b177",
   "metadata": {},
   "outputs": [],
   "source": [
    "response = ai_core_client.repositories.create(\n",
    "    name = \"llm-serving-benchmarking-gh-repo\",\n",
    "    url = \"https://github.com/amanichopra/llm-serving-framework-benchmarking.git\",\n",
    "    username = \"amanichopra\",\n",
    "    password = os.environ['GH_PAT']\n",
    ")\n",
    "print(response.__dict__)"
   ]
  },
  {
   "cell_type": "markdown",
   "id": "70c0bdc8",
   "metadata": {},
   "source": [
    "# Ollama"
   ]
  },
  {
   "cell_type": "markdown",
   "id": "84cf2dd2",
   "metadata": {},
   "source": [
    "Let's create an AI Core application for to serve via Ollama."
   ]
  },
  {
   "cell_type": "code",
   "execution_count": null,
   "id": "ed62f1d6",
   "metadata": {},
   "outputs": [],
   "source": [
    "response = ai_core_client.applications.create(\n",
    "    application_name = \"ollama\",\n",
    "    repository_url = \"https://github.com/amanichopra/llm-serving-framework-benchmarking.git\",\n",
    "    path = \"./ollama\",\n",
    "    revision = \"HEAD\"\n",
    ")\n",
    "print(response.__dict__)"
   ]
  },
  {
   "cell_type": "markdown",
   "id": "353514b3",
   "metadata": {},
   "source": [
    "List all applications to ensure the new app has been created."
   ]
  },
  {
   "cell_type": "code",
   "execution_count": 19,
   "id": "5de19af8",
   "metadata": {},
   "outputs": [
    {
     "name": "stdout",
     "output_type": "stream",
     "text": [
      "{'path': 'pipelines', 'revision': 'HEAD', 'repository_url': 'https://github.tools.sap/D070429/ai_core_information_extraction', 'application_name': 'ai-core-information-extraction'}\n",
      "{'path': 'LearningScenarios', 'revision': 'HEAD', 'repository_url': 'https://github.tools.sap/I589259/aicore-pipelines', 'application_name': 'andreas-learning-scenarios-app'}\n",
      "{'path': 'LearningScenarios', 'revision': 'HEAD', 'repository_url': 'https://github.tools.sap/D070429/aicore-pipelines', 'application_name': 'christians-learning-scenarios-app'}\n",
      "{'path': 'LearningScenarios', 'revision': 'HEAD', 'repository_url': 'https://github.tools.sap/I522484/aicore-pipelines', 'application_name': 'christoph-learning'}\n",
      "{'path': 'templates', 'revision': 'HEAD', 'repository_url': 'https://github.com/fyx99/CI-CD-with-AI-Core#main', 'application_name': 'cicd-felix-application'}\n",
      "{'path': 'templates', 'revision': 'HEAD', 'repository_url': 'https://github.com/fyx99/Cloud-Connector-with-AI-Core', 'application_name': 'cloud-connector-example'}\n",
      "{'path': 'housePricing', 'revision': 'HEAD', 'repository_url': 'https://github.com/drettstadt/AICORE_IMAGE', 'application_name': 'd064218-learning-scenarios-app'}\n",
      "{'path': 'Workflows', 'revision': 'HEAD', 'repository_url': 'https://github.tools.sap/I550854/image_aicore', 'application_name': 'db-image-app'}\n",
      "{'path': 'LearningScenarios', 'revision': 'HEAD', 'repository_url': 'https://github.tools.sap/I550854/aicore-tutorial-pipelines', 'application_name': 'erics-learning-scenarios-app'}\n",
      "{'path': 'Workflows', 'revision': 'HEAD', 'repository_url': 'https://github.tools.sap/I539205/aicore-lm', 'application_name': 'falcon-test'}\n",
      "{'path': 'templates', 'revision': 'main', 'repository_url': 'https://github.com/fyx99/CI-CD-with-AI-Core', 'application_name': 'felix-cicd'}\n",
      "{'path': 'pipelines', 'revision': 'HEAD', 'repository_url': 'https://github.tools.sap/I550854/gpt-dox-pipelines', 'application_name': 'gpt-dox-app'}\n",
      "{'path': 'LearningScenarios', 'revision': 'HEAD', 'repository_url': 'https://github.tools.sap/I539205/kerstin-aicore-pipelines', 'application_name': 'kerstin-learning-scenarios-app'}\n",
      "{'path': 'LearningScenarios', 'revision': 'HEAD', 'repository_url': 'https://github.tools.sap/D073537/aicore-pipelines', 'application_name': 'learning-scenarios-app'}\n",
      "{'path': 'LearningScenarios', 'revision': 'HEAD', 'repository_url': 'https://github.tools.sap/I522484/aicore-pipelines', 'application_name': 'learning-scenarios-christoph'}\n",
      "{'path': 'pipelines', 'revision': 'HEAD', 'repository_url': 'https://github.tools.sap/I550854/llama-serve', 'application_name': 'llama-app'}\n",
      "{'path': 'LearningScenarios', 'revision': 'HEAD', 'repository_url': 'https://github.tools.sap/I551386/aicore-pipelines', 'application_name': 'nikos-learning-scenarios-app'}\n",
      "{'path': 'Workflows', 'revision': 'HEAD', 'repository_url': 'https://github.tools.sap/I551386/aicore-lm', 'application_name': 'nikos-llm-chatbot'}\n",
      "{'path': './', 'revision': 'HEAD', 'repository_url': 'https://github.com/amanichopra/llm-serving-framework-benchmarking.git', 'application_name': 'ollama'}\n",
      "{'path': 'templates', 'revision': 'HEAD', 'repository_url': 'https://github.tools.sap/D070429/open-ai-core-llm-package', 'application_name': 'open-ai-core-llm-package'}\n",
      "{'path': 'simple-proxy', 'revision': 'HEAD', 'repository_url': 'https://github.tools.sap/D070429/openai-aicore', 'application_name': 'openai-aicore'}\n",
      "{'path': 'scenarios', 'revision': 'HEAD', 'repository_url': 'https://github.com/drettstadt/PLANTPRED_PIPELINES', 'application_name': 'plant-predictor'}\n",
      "{'path': './', 'revision': 'HEAD', 'repository_url': 'https://github.com/amanichopra/llm-serving-framework-benchmarking.git', 'application_name': 'training-app'}\n",
      "{'path': 'LearningScenarios', 'revision': 'HEAD', 'repository_url': 'https://github.tools.sap/I347687/aicore-pipelines', 'application_name': 'vtsykolanov-learning-scnearios-app'}\n",
      "{'path': 'content', 'revision': 'HEAD', 'repository_url': 'https://github.tools.sap/D070430/ml-artifacts', 'application_name': 'tenant-24e2d01b'}\n"
     ]
    }
   ],
   "source": [
    "response = ai_core_client.applications.query()\n",
    "\n",
    "for app in response.resources:\n",
    "    print(app.__dict__)"
   ]
  },
  {
   "cell_type": "markdown",
   "id": "aa70ab3f",
   "metadata": {},
   "source": [
    "Ensure the application is synced to the GitHub workflow template."
   ]
  },
  {
   "cell_type": "code",
   "execution_count": 20,
   "id": "8a79b3e5",
   "metadata": {},
   "outputs": [
    {
     "name": "stdout",
     "output_type": "stream",
     "text": [
      "A refresh of the application has been scheduled.\n",
      "Failed to load target state: failed to generate manifest for source 1 of 1: rpc error: code = Unknown desc = failed to list refs: remote repository is empty\n"
     ]
    }
   ],
   "source": [
    "print(ai_core_client.applications.refresh(application_name='ollama').message)\n",
    "# Get application status\n",
    "response = ai_core_client.applications.get_status(application_name='ollama')\n",
    "print(response.message)\n",
    "\n",
    "for sync_status in response.sync_ressources_status:\n",
    "    print(sync_status.__dict__)"
   ]
  }
 ],
 "metadata": {
  "kernelspec": {
   "display_name": ".venv",
   "language": "python",
   "name": "python3"
  },
  "language_info": {
   "codemirror_mode": {
    "name": "ipython",
    "version": 3
   },
   "file_extension": ".py",
   "mimetype": "text/x-python",
   "name": "python",
   "nbconvert_exporter": "python",
   "pygments_lexer": "ipython3",
   "version": "3.13.5"
  }
 },
 "nbformat": 4,
 "nbformat_minor": 5
}
